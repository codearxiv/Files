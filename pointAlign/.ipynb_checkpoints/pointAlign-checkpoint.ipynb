{
 "cells": [
  {
   "cell_type": "code",
   "execution_count": null,
   "metadata": {
    "scrolled": true
   },
   "outputs": [],
   "source": [
    "import dataset\n",
    "import os\n",
    "import math\n",
    "import numpy as np\n",
    "import matplotlib.pyplot as plt\n",
    "import torch\n",
    "import torch.optim as optim\n",
    "import torch.nn as nn\n",
    "from torch.nn import Parameter\n",
    "from torch.utils.data import Dataset\n",
    "from torch.utils.data import TensorDataset\n",
    "from torch.utils.data import DataLoader\n",
    "from torch.utils.data.dataset import random_split\n",
    "import torch.nn.functional as F\n",
    "from torch.autograd import Variable\n",
    "#import torchviz\n",
    "\n",
    "np.random.seed(1)\n",
    "torch.manual_seed(1)\n"
   ]
  },
  {
   "cell_type": "code",
   "execution_count": null,
   "metadata": {},
   "outputs": [],
   "source": [
    "\n",
    "def rotation_matrix_to_quaternion(M):\n",
    "#   Note: M must have positive determinant.\n",
    "\n",
    "    Q = torch.zeros(4)\n",
    "\n",
    "    tr = M[0,0] + M[1,1] + M[2,2]\n",
    "    if tr > 0.0: \n",
    "        s = 2.0 * math.sqrt(tr + 1.0)\n",
    "        t = 1.0/s\n",
    "        Q[0] = 0.25 * s\n",
    "        Q[1] = (M[2,1] - M[1,2]) * t\n",
    "        Q[2] = (M[0,2] - M[2,0]) * t\n",
    "        Q[3] = (M[1,0] - M[0,1]) * t\n",
    "    elif (M[0,0] > M[1,1]) and (M[0,0] > M[2,2]):\n",
    "        s = 2.0 * math.sqrt(1.0 + M[0,0] - M[1,1] - M[2,2])\n",
    "        t = 1.0/s\n",
    "        Q[0] = (M[2,1] - M[1,2]) * t\n",
    "        Q[1] = 0.25 * S\n",
    "        Q[2] = (M[0,1] + M[1,0]) * t\n",
    "        Q[3] = (M[0,2] + M[2,0]) * t\n",
    "    elif M[1,1] > M[2,2]:\n",
    "        s = 2.0 * math.sqrt(1.0 + M[1,1] - M[0,0] - M[2,2])\n",
    "        t = 1.0/s\n",
    "        Q[0] = (M[0,2] - M[2,0]) * t\n",
    "        Q[1] = (M[0,1] + M[1,0]) * t\n",
    "        Q[2] = 0.25 * s\n",
    "        Q[3] = (M[1,2] + M[2,1]) * t\n",
    "    else:\n",
    "        s = 2.0 * math.sqrt(1.0 + M[2,2] - M[0,0] - M[1,1])\n",
    "        t = 1.0/s\n",
    "        Q[0] = (M[1,0] - M[0,1]) * t\n",
    "        Q[1] = (M[0,2] + M[2,0]) * t\n",
    "        Q[2] = (M[1,2] + M[2,1]) * t\n",
    "        Q[3] = 0.25 * s\n",
    "    \n",
    "    return Q             \n",
    "\n",
    "                 \n",
    "def quaternion_to_rotation_matrix(Q):\n",
    "\n",
    "    w = Q[0]\n",
    "    x = Q[1]\n",
    "    y = Q[2]\n",
    "    z = Q[3]\n",
    "\n",
    "    M = torch.zeros((3,3))\n",
    "    \n",
    "    M[0,0] = 1.0 - 2.0*(y*y + z*z)\n",
    "    M[0,1] = 2.0*(x*y - w*z)\n",
    "    M[0,2] = 2.0*(x*z + w*y)\n",
    "\n",
    "    M[1,0] = 2.0*(x*y + w*z)\n",
    "    M[1,1] = 1.0 - 2.0*(x*x + z*z)\n",
    "    M[1,2] = 2.0*(y*z - w*x)\n",
    "\n",
    "    M[2,0] = 2.0*(x*z - w*y)\n",
    "    M[2,1] = 2.0*(y*z + w*x)\n",
    "    M[2,2] = 1.0 - 2.0*(x*x + y*y)\n",
    "\n",
    "    return M\n",
    "                 \n",
    "                 \n",
    "def random_unit_quaternion():\n",
    "                 \n",
    "    Q = np.random.randn(4)\n",
    "    norm = np.linalg.norm(Q)\n",
    "\n",
    "    if norm > 1e-7:\n",
    "        Q = Q/norm\n",
    "    else:\n",
    "        Q = np.array([1.0, 0.0, 0.0, 0.0])\n",
    "        \n",
    "    return torch.from_numpy(Q).float()\n",
    "            \n",
    "    \n",
    "\n",
    "def random_rotation_matrix():\n",
    "                 \n",
    "    Q = random_unit_quaternion()        \n",
    "    M = quaternion_to_rotation_matrix(Q)\n",
    "                \n",
    "    return M\n",
    "                 "
   ]
  },
  {
   "cell_type": "code",
   "execution_count": null,
   "metadata": {},
   "outputs": [],
   "source": [
    "root = os.getcwd()\n",
    "\n",
    "# choose dataset name from 'shapenetcorev2', 'shapenetpart', 'modelnet40' and 'modelnet10'\n",
    "dataset_name = 'shapenetpart'\n",
    "\n",
    "# choose split type from 'train', 'test', 'all', 'trainval' and 'val'\n",
    "# only shapenetcorev2 and shapenetpart dataset support 'trainval' and 'val'\n",
    "split = 'train'\n",
    "\n",
    "d = dataset.Dataset(root=root, dataset_name=dataset_name, num_points=256, split=split, random_rotate=False)\n",
    "print(\"datasize:\", d.__len__())\n",
    "\n",
    "item = 0\n",
    "ps, lb, n, f = d[item]\n",
    "print(ps.size(), ps.type(), lb.size(), lb.type(), n, f) \n"
   ]
  },
  {
   "cell_type": "code",
   "execution_count": null,
   "metadata": {},
   "outputs": [],
   "source": [
    "torch.save(ps, 'tensor.pt')"
   ]
  },
  {
   "cell_type": "code",
   "execution_count": null,
   "metadata": {},
   "outputs": [],
   "source": [
    "ps = torch.load('tensor.pt')\n",
    "ps"
   ]
  },
  {
   "cell_type": "code",
   "execution_count": null,
   "metadata": {},
   "outputs": [],
   "source": [
    "def randrange(n, vmin, vmax):\n",
    "    return (vmax - vmin)*np.random.rand(n) + vmin\n",
    "\n",
    "fig = plt.figure(dpi=150)\n",
    "ax = fig.add_subplot(111, projection='3d')\n",
    "\n",
    "#M = torch.from_numpy( random_rotation_matrix() ).float()\n",
    "#ps = torch.mm(ps, M)\n",
    "\n",
    "xs = ps[:,0]\n",
    "ys = ps[:,1]\n",
    "zs = ps[:,2]\n",
    "cs = np.arange(ps.size()[0])\n",
    "ax.scatter(xs, ys, zs, s=0.1, c=cs, marker='o')\n",
    "\n",
    "ax.set_xlabel('X Label')\n",
    "ax.set_ylabel('Y Label')\n",
    "ax.set_zlabel('Z Label')\n",
    "\n",
    "plt.show()"
   ]
  },
  {
   "cell_type": "code",
   "execution_count": null,
   "metadata": {},
   "outputs": [],
   "source": [
    "class STN3dMaxPool(nn.Module):\n",
    "    def __init__(self):\n",
    "        super(STN3dMaxPool, self).__init__()\n",
    "        self.conv1 = torch.nn.Conv1d(3, 64, 1)\n",
    "        self.conv2 = torch.nn.Conv1d(64, 128, 1)\n",
    "        self.conv3 = torch.nn.Conv1d(128, 1024, 1)\n",
    "        self.relu = nn.ReLU()\n",
    "\n",
    "        self.bn1 = nn.BatchNorm1d(64)\n",
    "        self.bn2 = nn.BatchNorm1d(128)\n",
    "        self.bn3 = nn.BatchNorm1d(1024)\n",
    "\n",
    "    def forward(self, x):\n",
    "        x = F.relu(self.bn1(self.conv1(x)))\n",
    "        x = F.relu(self.bn2(self.conv2(x)))\n",
    "        x = F.relu(self.bn3(self.conv3(x)))\n",
    "        x = torch.max(x, 2, keepdim=True)[0]\n",
    "        x = x.view(-1, 1024)\n",
    "        \n",
    "        return x\n"
   ]
  },
  {
   "cell_type": "code",
   "execution_count": null,
   "metadata": {},
   "outputs": [],
   "source": [
    "class STN3d(nn.Module):\n",
    "    def __init__(self):\n",
    "        super(STN3d, self).__init__()\n",
    "        self.mp = STN3dMaxPool()\n",
    "        self.fc1 = nn.Linear(1024, 512)\n",
    "        self.fc2 = nn.Linear(512, 256)\n",
    "        self.fc3 = nn.Linear(256, 4)\n",
    "        self.relu = nn.ReLU()\n",
    "\n",
    "        self.bn4 = nn.BatchNorm1d(512)\n",
    "        self.bn5 = nn.BatchNorm1d(256)\n",
    "        \n",
    "    def forward(self, x):\n",
    "        x = self.mp(x)\n",
    "        x = F.relu(self.bn4(self.fc1(x)))\n",
    "        x = F.relu(self.bn5(self.fc2(x)))\n",
    "        x = self.fc3(x)\n",
    "        x = x.view(-1, 4)\n",
    "        \n",
    "        return x\n"
   ]
  },
  {
   "cell_type": "code",
   "execution_count": null,
   "metadata": {},
   "outputs": [],
   "source": [
    "def training_loop(\n",
    "    n_epochs, optimizer, model, loss_fn, train_loader, val_loader, device, verbosity=None):\n",
    "\n",
    "    for epoch in range(0, n_epochs):\n",
    "        total_loss_train = 0.0\n",
    "        n_batches_train = 0\n",
    "        for x_train, y_train in train_loader:\n",
    "            x_train = x_train.to(device)\n",
    "            y_train = y_train.to(device)\n",
    "            model.train()\n",
    "            yhat_train = model(x_train)\n",
    "            loss_train = loss_fn(y_train, yhat_train)\n",
    "            total_loss_train += float(loss_train)\n",
    "            n_batches_train += 1\n",
    "            loss_train.backward()\n",
    "            optimizer.step()\n",
    "            optimizer.zero_grad()\n",
    "             \n",
    "        total_loss_val = 0.0\n",
    "        n_batches_val = 0\n",
    "        with torch.no_grad():\n",
    "            for x_val, y_val in val_loader:\n",
    "                x_val = x_val.to(device)\n",
    "                y_val = y_val.to(device)\n",
    "                model.eval()\n",
    "                yhat_val = model(x_val)\n",
    "                loss_val = loss_fn(y_val, yhat_val)\n",
    "                total_loss_val += float(loss_val)\n",
    "                n_batches_val += 1\n",
    "                \n",
    "        if verbosity is not None and epoch % verbosity == 0:\n",
    "            total_loss_train = total_loss_train/max(1,n_batches_train)\n",
    "            total_loss_val = total_loss_val/max(1,n_batches_val)\n",
    "            print('Epoch {}, Training loss {}, Validation loss {}'.format(\n",
    "                epoch, total_loss_train, total_loss_val))\n",
    "            \n",
    "        "
   ]
  },
  {
   "cell_type": "code",
   "execution_count": null,
   "metadata": {},
   "outputs": [],
   "source": [
    "size_batch = 1000\n",
    "x_tensor = torch.zeros((size_batch, 3, ps.shape[0]))\n",
    "y_tensor = torch.zeros((size_batch, 4))"
   ]
  },
  {
   "cell_type": "code",
   "execution_count": null,
   "metadata": {},
   "outputs": [],
   "source": [
    "Q = torch.zeros(4)\n",
    "Q[0] = 1.0\n",
    "\n",
    "for i in range(0,x_tensor.shape[0]):\n",
    "    M = quaternion_to_rotation_matrix(Q)\n",
    "    x_tensor[i] = torch.mm(ps, M).reshape(ps.shape[1], ps.shape[0])\n",
    "    y_tensor[i] = Q\n",
    "    Q = random_unit_quaternion()\n",
    "    "
   ]
  },
  {
   "cell_type": "code",
   "execution_count": null,
   "metadata": {},
   "outputs": [],
   "source": [
    "size_val = size_batch//5\n",
    "size_train = size_batch - size_val\n",
    "\n",
    "dataset = TensorDataset(x_tensor, y_tensor)\n",
    "\n",
    "train_dataset, val_dataset = random_split(dataset, [size_train, size_val])\n",
    "\n",
    "train_loader = DataLoader(dataset=train_dataset, batch_size=min(16,size_train))\n",
    "val_loader = DataLoader(dataset=val_dataset, batch_size=min(16,size_val))\n"
   ]
  },
  {
   "cell_type": "code",
   "execution_count": null,
   "metadata": {},
   "outputs": [],
   "source": [
    "def QuatRotLoss(y, yhat):\n",
    "    loss = torch.mean( torch.min( ((y-yhat)**2).sum(dim=1), ((y+yhat)**2).sum(dim=1) ) )\n",
    "    return loss\n",
    "\n",
    "#model = SubclassFunctionalModel()\n",
    "model = STN3d()\n",
    "#optimizer = optim.SGD(model.parameters(), lr=1e-2)\n",
    "optimizer = optim.Adam(model.parameters(), lr=1e-3, weight_decay=1e-5)\n",
    "# loss_fn = nn.MSELoss(reduction='mean')\n",
    "loss_fn = QuatRotLoss\n",
    "model, optimizer, loss_fn\n",
    "\n"
   ]
  },
  {
   "cell_type": "code",
   "execution_count": null,
   "metadata": {},
   "outputs": [],
   "source": [
    "optimizer = optim.Adam(model.parameters(), lr=1e-6, weight_decay=1e-5)"
   ]
  },
  {
   "cell_type": "code",
   "execution_count": null,
   "metadata": {},
   "outputs": [],
   "source": [
    "device = torch.device(\"cuda:0\" if torch.cuda.is_available() else \"cpu\")\n",
    "training_loop(\n",
    "    40, optimizer, model, loss_fn, train_loader, val_loader, device, 1)"
   ]
  },
  {
   "cell_type": "code",
   "execution_count": null,
   "metadata": {},
   "outputs": [],
   "source": [
    "model.eval()\n",
    "model(x_tensor[0].unsqueeze(0)).squeeze_()"
   ]
  },
  {
   "cell_type": "code",
   "execution_count": null,
   "metadata": {},
   "outputs": [],
   "source": [
    "with torch.no_grad():\n",
    "    model.eval()\n",
    "    M = model(x_tensor)\n",
    "    print(y_tensor)\n",
    "    print(M)\n",
    "    print(float(loss_fn(y_tensor,M)))"
   ]
  },
  {
   "cell_type": "code",
   "execution_count": null,
   "metadata": {},
   "outputs": [],
   "source": [
    "with torch.no_grad():\n",
    "    k = 100\n",
    "    model.eval()\n",
    "    Q = model(x_tensor[k].unsqueeze(0)).squeeze_()\n",
    "    print(y_tensor[k])\n",
    "    print(Q)\n",
    "#     print(float(loss_fn(y_tensor[k],Q)))"
   ]
  },
  {
   "cell_type": "code",
   "execution_count": null,
   "metadata": {},
   "outputs": [],
   "source": [
    "y_tensor"
   ]
  },
  {
   "cell_type": "code",
   "execution_count": null,
   "metadata": {},
   "outputs": [],
   "source": [
    "A = torch.tensor([[1.0,2.0,3.0],[4.0,5.0,6.0]])\n",
    "# A*A\n",
    "(A*A).sum(dim=1)\n",
    "# B = A*A\n",
    "# B, B.sum(axis=1)\n",
    "# float(A.dot(A))\n",
    "# torch.abs(torch.tensor([-1,2,3]))\n",
    "# C = (1.0 - (A*-A).sum(axis=1).abs())\n",
    "# torch.max(C, torch.tensor([1.0,2.0]))\n",
    "# torch.max(torch.tensor([-1,3]), torch.tensor([1,2]))"
   ]
  },
  {
   "cell_type": "code",
   "execution_count": null,
   "metadata": {},
   "outputs": [],
   "source": [
    "with torch.no_grad():\n",
    "    Q = random_unit_quaternion()\n",
    "    M = quaternion_to_rotation_matrix(Q)\n",
    "    xt = torch.mm(ps, M).reshape(ps.shape[1], ps.shape[0])\n",
    "    yt = Q\n",
    "    model.eval()\n",
    "    yhat = model(xt.unsqueeze(0)).squeeze_()   \n",
    "    print(yt)\n",
    "    print(yhat)\n"
   ]
  },
  {
   "cell_type": "code",
   "execution_count": null,
   "metadata": {},
   "outputs": [],
   "source": []
  }
 ],
 "metadata": {
  "kernelspec": {
   "display_name": "Python 3",
   "language": "python",
   "name": "python3"
  },
  "language_info": {
   "codemirror_mode": {
    "name": "ipython",
    "version": 3
   },
   "file_extension": ".py",
   "mimetype": "text/x-python",
   "name": "python",
   "nbconvert_exporter": "python",
   "pygments_lexer": "ipython3",
   "version": "3.8.3"
  }
 },
 "nbformat": 4,
 "nbformat_minor": 4
}
