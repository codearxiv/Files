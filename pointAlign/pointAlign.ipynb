{
 "cells": [
  {
   "cell_type": "code",
   "execution_count": 15,
   "metadata": {
    "scrolled": true
   },
   "outputs": [
    {
     "data": {
      "text/plain": [
       "<torch._C.Generator at 0x1d5fb927610>"
      ]
     },
     "execution_count": 15,
     "metadata": {},
     "output_type": "execute_result"
    }
   ],
   "source": [
    "import dataset\n",
    "import os\n",
    "import math\n",
    "import numpy as np\n",
    "import matplotlib.pyplot as plt\n",
    "import torch\n",
    "import torch.optim as optim\n",
    "import torch.nn as nn\n",
    "from torch.nn import Parameter\n",
    "from torch.utils.data import Dataset\n",
    "from torch.utils.data import TensorDataset\n",
    "from torch.utils.data import DataLoader\n",
    "from torch.utils.data.dataset import random_split\n",
    "import torch.nn.functional as F\n",
    "from torch.autograd import Variable\n",
    "#import torchviz\n",
    "\n",
    "np.random.seed(1)\n",
    "torch.manual_seed(1)\n"
   ]
  },
  {
   "cell_type": "code",
   "execution_count": 16,
   "metadata": {},
   "outputs": [],
   "source": [
    "\n",
    "def rotation_matrix_to_quaternion(M):\n",
    "#   Note: M must have positive determinant.\n",
    "\n",
    "    Q = torch.zeros(4)\n",
    "\n",
    "    tr = M[0,0] + M[1,1] + M[2,2]\n",
    "    if tr > 0.0: \n",
    "        s = 2.0 * math.sqrt(tr + 1.0)\n",
    "        t = 1.0/s\n",
    "        Q[0] = 0.25 * s\n",
    "        Q[1] = (M[2,1] - M[1,2]) * t\n",
    "        Q[2] = (M[0,2] - M[2,0]) * t\n",
    "        Q[3] = (M[1,0] - M[0,1]) * t\n",
    "    elif (M[0,0] > M[1,1]) and (M[0,0] > M[2,2]):\n",
    "        s = 2.0 * math.sqrt(1.0 + M[0,0] - M[1,1] - M[2,2])\n",
    "        t = 1.0/s\n",
    "        Q[0] = (M[2,1] - M[1,2]) * t\n",
    "        Q[1] = 0.25 * S\n",
    "        Q[2] = (M[0,1] + M[1,0]) * t\n",
    "        Q[3] = (M[0,2] + M[2,0]) * t\n",
    "    elif M[1,1] > M[2,2]:\n",
    "        s = 2.0 * math.sqrt(1.0 + M[1,1] - M[0,0] - M[2,2])\n",
    "        t = 1.0/s\n",
    "        Q[0] = (M[0,2] - M[2,0]) * t\n",
    "        Q[1] = (M[0,1] + M[1,0]) * t\n",
    "        Q[2] = 0.25 * s\n",
    "        Q[3] = (M[1,2] + M[2,1]) * t\n",
    "    else:\n",
    "        s = 2.0 * math.sqrt(1.0 + M[2,2] - M[0,0] - M[1,1])\n",
    "        t = 1.0/s\n",
    "        Q[0] = (M[1,0] - M[0,1]) * t\n",
    "        Q[1] = (M[0,2] + M[2,0]) * t\n",
    "        Q[2] = (M[1,2] + M[2,1]) * t\n",
    "        Q[3] = 0.25 * s\n",
    "    \n",
    "    return Q             \n",
    "\n",
    "                 \n",
    "def quaternion_to_rotation_matrix(Q):\n",
    "\n",
    "    w = Q[0]\n",
    "    x = Q[1]\n",
    "    y = Q[2]\n",
    "    z = Q[3]\n",
    "\n",
    "    M = torch.zeros((3,3))\n",
    "    \n",
    "    M[0,0] = 1.0 - 2.0*(y*y + z*z)\n",
    "    M[0,1] = 2.0*(x*y - w*z)\n",
    "    M[0,2] = 2.0*(x*z + w*y)\n",
    "\n",
    "    M[1,0] = 2.0*(x*y + w*z)\n",
    "    M[1,1] = 1.0 - 2.0*(x*x + z*z)\n",
    "    M[1,2] = 2.0*(y*z - w*x)\n",
    "\n",
    "    M[2,0] = 2.0*(x*z - w*y)\n",
    "    M[2,1] = 2.0*(y*z + w*x)\n",
    "    M[2,2] = 1.0 - 2.0*(x*x + y*y)\n",
    "\n",
    "    return M\n",
    "                 \n",
    "                 \n",
    "def random_unit_quaternion():\n",
    "                 \n",
    "    Q = np.random.randn(4)\n",
    "    norm = np.linalg.norm(Q)\n",
    "\n",
    "    if norm > 1e-7:\n",
    "        Q = Q/norm\n",
    "    else:\n",
    "        Q = np.array([1.0, 0.0, 0.0, 0.0])\n",
    "        \n",
    "    return torch.from_numpy(Q).float()\n",
    "            \n",
    "    \n",
    "\n",
    "def random_rotation_matrix():\n",
    "                 \n",
    "    Q = random_unit_quaternion()        \n",
    "    M = quaternion_to_rotation_matrix(Q)\n",
    "                \n",
    "    return M\n",
    "                 "
   ]
  },
  {
   "cell_type": "code",
   "execution_count": 17,
   "metadata": {},
   "outputs": [
    {
     "name": "stdout",
     "output_type": "stream",
     "text": [
      "datasize: 12137\n",
      "torch.Size([256, 3]) torch.FloatTensor torch.Size([1]) torch.LongTensor airplane 02691156/points/d4d61a35e8b568fb7f1f82f6fc8747b8.pts\n"
     ]
    }
   ],
   "source": [
    "root = os.getcwd()\n",
    "\n",
    "# choose dataset name from 'shapenetcorev2', 'shapenetpart', 'modelnet40' and 'modelnet10'\n",
    "dataset_name = 'shapenetpart'\n",
    "\n",
    "# choose split type from 'train', 'test', 'all', 'trainval' and 'val'\n",
    "# only shapenetcorev2 and shapenetpart dataset support 'trainval' and 'val'\n",
    "split = 'train'\n",
    "\n",
    "d = dataset.Dataset(root=root, dataset_name=dataset_name, num_points=256, split=split, random_rotate=False)\n",
    "print(\"datasize:\", d.__len__())\n",
    "\n",
    "item = 0\n",
    "ps, lb, n, f = d[item]\n",
    "print(ps.size(), ps.type(), lb.size(), lb.type(), n, f) \n"
   ]
  },
  {
   "cell_type": "code",
   "execution_count": 4,
   "metadata": {},
   "outputs": [],
   "source": [
    "torch.save(ps, 'tensor.pt')"
   ]
  },
  {
   "cell_type": "code",
   "execution_count": 5,
   "metadata": {},
   "outputs": [
    {
     "data": {
      "text/plain": [
       "tensor([[-7.3473e-01,  3.0682e-02,  3.1320e-02],\n",
       "        [ 9.9903e-01, -4.0451e-02, -1.7362e-02],\n",
       "        [-1.6597e-01,  1.7705e-02, -7.6738e-01],\n",
       "        [ 1.3739e-01, -1.0413e-01,  3.2422e-01],\n",
       "        [ 3.3625e-01, -4.5667e-02, -3.2143e-01],\n",
       "        [-2.3002e-01,  1.6017e-02,  7.5248e-01],\n",
       "        [-1.9326e-01,  2.3954e-02, -8.4011e-02],\n",
       "        [ 5.4885e-01,  3.9149e-02,  8.1237e-02],\n",
       "        [ 1.8642e-01,  9.9346e-02, -7.4597e-03],\n",
       "        [-3.7332e-02, -1.1524e-02, -4.1972e-01],\n",
       "        [-8.9101e-01,  3.5984e-01, -1.5229e-04],\n",
       "        [-8.8131e-01,  1.0156e-01, -2.9089e-01],\n",
       "        [-1.4384e-01, -9.5588e-03,  4.5041e-01],\n",
       "        [-8.6798e-01,  1.0219e-01,  2.9869e-01],\n",
       "        [-4.4342e-01,  2.7936e-02,  7.5441e-02],\n",
       "        [-1.0103e-01, -3.0448e-02,  1.7815e-01],\n",
       "        [ 7.5335e-01,  2.4912e-02, -8.3885e-02],\n",
       "        [ 5.9575e-03, -1.3799e-01, -1.9448e-01],\n",
       "        [ 3.4890e-01, -6.9605e-02, -1.1350e-03],\n",
       "        [ 3.8085e-02, -6.9731e-02,  1.1061e-02],\n",
       "        [ 3.3703e-01, -5.2168e-02,  2.7604e-01],\n",
       "        [ 1.8247e-01, -3.1657e-02, -1.6721e-01],\n",
       "        [-7.2738e-01,  2.2740e-01, -6.1998e-03],\n",
       "        [-1.7164e-01, -2.6075e-04, -5.6335e-01],\n",
       "        [-7.4174e-01,  8.3547e-02, -1.5603e-01],\n",
       "        [ 1.9923e-01, -3.9418e-02,  1.4214e-01],\n",
       "        [ 8.4880e-01, -1.4694e-01,  1.7133e-02],\n",
       "        [ 8.5462e-01,  3.8292e-02,  7.2065e-02],\n",
       "        [-8.8156e-02,  1.0322e-02,  6.2556e-01],\n",
       "        [-5.7503e-01,  5.7090e-02, -5.7755e-02],\n",
       "        [-3.9777e-02,  9.8414e-02, -1.4515e-02],\n",
       "        [ 1.3520e-01, -7.5527e-02, -3.3823e-01],\n",
       "        [-2.6164e-01, -1.1297e-02,  8.0103e-02],\n",
       "        [ 4.1421e-01,  9.4231e-02, -2.9810e-02],\n",
       "        [ 3.1559e-02, -5.1995e-03,  4.2917e-01],\n",
       "        [ 5.3605e-01, -2.4627e-02, -7.4839e-02],\n",
       "        [-3.6717e-01,  5.8173e-02, -7.0354e-02],\n",
       "        [ 7.0356e-01, -2.3518e-02,  7.5038e-02],\n",
       "        [ 6.4079e-04, -1.5125e-01,  2.0198e-01],\n",
       "        [-8.3621e-02, -2.2460e-02, -2.5359e-01],\n",
       "        [ 3.0777e-02, -7.7949e-03,  2.6095e-01],\n",
       "        [-7.9702e-01,  8.8184e-02,  1.6147e-01],\n",
       "        [ 1.9038e-01, -6.9076e-02, -5.1415e-03],\n",
       "        [-6.2807e-02, -3.8259e-02, -1.0760e-01],\n",
       "        [-1.1988e-01, -1.5480e-02,  3.3361e-02],\n",
       "        [ 2.9009e-01,  5.0463e-02,  7.6550e-02],\n",
       "        [ 6.9154e-02,  5.2252e-02,  7.5819e-02],\n",
       "        [ 6.6203e-01,  9.8137e-02,  1.6453e-02],\n",
       "        [ 5.9654e-02, -8.6516e-03, -2.3041e-01],\n",
       "        [ 2.8689e-01,  2.4761e-02, -8.3910e-02],\n",
       "        [-9.1886e-02, -1.7773e-02,  3.2195e-01],\n",
       "        [ 8.9587e-01,  3.8065e-02, -6.0552e-02],\n",
       "        [-4.5967e-01, -3.7554e-02, -4.0948e-02],\n",
       "        [-8.5594e-01,  7.8331e-02,  3.3502e-03],\n",
       "        [ 4.9323e-02,  2.8591e-02, -8.3406e-02],\n",
       "        [-3.1768e-01, -5.7737e-02, -3.2355e-02],\n",
       "        [ 2.4365e-01, -1.1620e-01, -2.6022e-01],\n",
       "        [-2.5146e-01,  9.8263e-02,  1.5521e-02],\n",
       "        [ 4.1938e-01, -3.8136e-03,  8.2396e-02],\n",
       "        [-5.7196e-01,  1.3015e-03,  5.1932e-02],\n",
       "        [-5.1166e-02,  6.3159e-03, -5.4611e-01],\n",
       "        [-1.0098e-01,  8.0545e-03, -6.6213e-01],\n",
       "        [ 6.1726e-01, -6.9152e-02,  4.4589e-03],\n",
       "        [ 3.8891e-02, -4.0754e-02,  1.4635e-01]])"
      ]
     },
     "execution_count": 5,
     "metadata": {},
     "output_type": "execute_result"
    }
   ],
   "source": [
    "ps = torch.load('tensor.pt')\n",
    "ps"
   ]
  },
  {
   "cell_type": "code",
   "execution_count": 18,
   "metadata": {},
   "outputs": [
    {
     "data": {
      "image/png": "[encoded data removed]",
      "text/plain": [
       "<Figure size 900x600 with 1 Axes>"
      ]
     },
     "metadata": {
      "needs_background": "light"
     },
     "output_type": "display_data"
    }
   ],
   "source": [
    "def randrange(n, vmin, vmax):\n",
    "    return (vmax - vmin)*np.random.rand(n) + vmin\n",
    "\n",
    "fig = plt.figure(dpi=150)\n",
    "ax = fig.add_subplot(111, projection='3d')\n",
    "\n",
    "#M = torch.from_numpy( random_rotation_matrix() ).float()\n",
    "#ps = torch.mm(ps, M)\n",
    "\n",
    "xs = ps[:,0]\n",
    "ys = ps[:,1]\n",
    "zs = ps[:,2]\n",
    "cs = np.arange(ps.size()[0])\n",
    "ax.scatter(xs, ys, zs, s=0.1, c=cs, marker='o')\n",
    "\n",
    "ax.set_xlabel('X Label')\n",
    "ax.set_ylabel('Y Label')\n",
    "ax.set_zlabel('Z Label')\n",
    "\n",
    "plt.show()"
   ]
  },
  {
   "cell_type": "code",
   "execution_count": 19,
   "metadata": {},
   "outputs": [],
   "source": [
    "class STN3d(nn.Module):\n",
    "    def __init__(self):\n",
    "        super(STN3d, self).__init__()\n",
    "        self.conv1 = torch.nn.Conv1d(3, 64, 1)\n",
    "        self.conv2 = torch.nn.Conv1d(64, 128, 1)\n",
    "        self.conv3 = torch.nn.Conv1d(128, 1024, 1)\n",
    "        self.fc1 = nn.Linear(1024, 512)\n",
    "        self.fc2 = nn.Linear(512, 256)\n",
    "        self.fc3 = nn.Linear(256, 4)\n",
    "        self.relu = nn.ReLU()\n",
    "\n",
    "        self.bn1 = nn.BatchNorm1d(64)\n",
    "        self.bn2 = nn.BatchNorm1d(128)\n",
    "        self.bn3 = nn.BatchNorm1d(1024)\n",
    "        self.bn4 = nn.BatchNorm1d(512)\n",
    "        self.bn5 = nn.BatchNorm1d(256)\n",
    "\n",
    "    def forward(self, x):\n",
    "        batchsize = x.size()[0]\n",
    "        x = F.relu(self.bn1(self.conv1(x)))\n",
    "        x = F.relu(self.bn2(self.conv2(x)))\n",
    "        x = F.relu(self.bn3(self.conv3(x)))\n",
    "        x = torch.max(x, 2, keepdim=True)[0]\n",
    "        x = x.view(-1, 1024)\n",
    "\n",
    "        x = F.relu(self.bn4(self.fc1(x)))\n",
    "        x = F.relu(self.bn5(self.fc2(x)))\n",
    "        x = self.fc3(x)\n",
    "\n",
    "        if x.is_cuda:\n",
    "            iden = iden.cuda()            \n",
    "        x = x.view(-1, 4)\n",
    "        \n",
    "        return x\n"
   ]
  },
  {
   "cell_type": "code",
   "execution_count": 20,
   "metadata": {},
   "outputs": [],
   "source": [
    "def training_loop(\n",
    "    n_epochs, optimizer, model, loss_fn, train_loader, val_loader, device, verbosity=None):\n",
    "\n",
    "    for epoch in range(0, n_epochs):\n",
    "        total_loss_train = 0.0\n",
    "        n_batches_train = 0\n",
    "        for x_train, y_train in train_loader:\n",
    "            x_train = x_train.to(device)\n",
    "            y_train = y_train.to(device)\n",
    "            model.train()\n",
    "            yhat_train = model(x_train)\n",
    "            loss_train = loss_fn(y_train, yhat_train)\n",
    "            total_loss_train += float(loss_train)\n",
    "            n_batches_train += 1\n",
    "            loss_train.backward()\n",
    "            optimizer.step()\n",
    "            optimizer.zero_grad()\n",
    "             \n",
    "        total_loss_val = 0.0\n",
    "        n_batches_val = 0\n",
    "        with torch.no_grad():\n",
    "            for x_val, y_val in val_loader:\n",
    "                x_val = x_val.to(device)\n",
    "                y_val = y_val.to(device)\n",
    "                model.eval()\n",
    "                yhat_val = model(x_val)\n",
    "                loss_val = loss_fn(y_val, yhat_val)\n",
    "                total_loss_val += float(loss_val)\n",
    "                n_batches_val += 1\n",
    "                \n",
    "        if verbosity is not None and epoch % verbosity == 0:\n",
    "            total_loss_train = total_loss_train/max(1,n_batches_train)\n",
    "            total_loss_val = total_loss_val/max(1,n_batches_val)\n",
    "            print('Epoch {}, Training loss {}, Validation loss {}'.format(\n",
    "                epoch, total_loss_train, total_loss_val))\n",
    "            \n",
    "        "
   ]
  },
  {
   "cell_type": "code",
   "execution_count": 21,
   "metadata": {},
   "outputs": [],
   "source": [
    "size_batch = 1000\n",
    "x_tensor = torch.zeros((size_batch, 3, ps.shape[0]))\n",
    "y_tensor = torch.zeros((size_batch, 4))"
   ]
  },
  {
   "cell_type": "code",
   "execution_count": 22,
   "metadata": {},
   "outputs": [],
   "source": [
    "Q = torch.zeros(4)\n",
    "Q[0] = 1.0\n",
    "\n",
    "for i in range(0,x_tensor.shape[0]):\n",
    "    M = quaternion_to_rotation_matrix(Q)\n",
    "    x_tensor[i] = torch.mm(ps, M).reshape(ps.shape[1], ps.shape[0])\n",
    "    y_tensor[i] = Q\n",
    "    Q = random_unit_quaternion()\n",
    "    "
   ]
  },
  {
   "cell_type": "code",
   "execution_count": 23,
   "metadata": {},
   "outputs": [],
   "source": [
    "size_val = size_batch//5\n",
    "size_train = size_batch - size_val\n",
    "\n",
    "dataset = TensorDataset(x_tensor, y_tensor)\n",
    "\n",
    "train_dataset, val_dataset = random_split(dataset, [size_train, size_val])\n",
    "\n",
    "train_loader = DataLoader(dataset=train_dataset, batch_size=min(16,size_train))\n",
    "val_loader = DataLoader(dataset=val_dataset, batch_size=min(16,size_val))\n"
   ]
  },
  {
   "cell_type": "code",
   "execution_count": 24,
   "metadata": {},
   "outputs": [
    {
     "data": {
      "text/plain": [
       "(STN3d(\n",
       "   (conv1): Conv1d(3, 64, kernel_size=(1,), stride=(1,))\n",
       "   (conv2): Conv1d(64, 128, kernel_size=(1,), stride=(1,))\n",
       "   (conv3): Conv1d(128, 1024, kernel_size=(1,), stride=(1,))\n",
       "   (fc1): Linear(in_features=1024, out_features=512, bias=True)\n",
       "   (fc2): Linear(in_features=512, out_features=256, bias=True)\n",
       "   (fc3): Linear(in_features=256, out_features=4, bias=True)\n",
       "   (relu): ReLU()\n",
       "   (bn1): BatchNorm1d(64, eps=1e-05, momentum=0.1, affine=True, track_running_stats=True)\n",
       "   (bn2): BatchNorm1d(128, eps=1e-05, momentum=0.1, affine=True, track_running_stats=True)\n",
       "   (bn3): BatchNorm1d(1024, eps=1e-05, momentum=0.1, affine=True, track_running_stats=True)\n",
       "   (bn4): BatchNorm1d(512, eps=1e-05, momentum=0.1, affine=True, track_running_stats=True)\n",
       "   (bn5): BatchNorm1d(256, eps=1e-05, momentum=0.1, affine=True, track_running_stats=True)\n",
       " ),\n",
       " Adam (\n",
       " Parameter Group 0\n",
       "     amsgrad: False\n",
       "     betas: (0.9, 0.999)\n",
       "     eps: 1e-08\n",
       "     lr: 0.001\n",
       "     weight_decay: 1e-05\n",
       " ),\n",
       " <function __main__.QuatRotLoss(y, yhat)>)"
      ]
     },
     "execution_count": 24,
     "metadata": {},
     "output_type": "execute_result"
    }
   ],
   "source": [
    "def QuatRotLoss(y, yhat):\n",
    "    loss = torch.mean( torch.min( ((y-yhat)**2).sum(dim=1), ((y+yhat)**2).sum(dim=1) ) )\n",
    "    return loss\n",
    "\n",
    "#model = SubclassFunctionalModel()\n",
    "model = STN3d()\n",
    "#optimizer = optim.SGD(model.parameters(), lr=1e-2)\n",
    "optimizer = optim.Adam(model.parameters(), lr=1e-3, weight_decay=1e-5)\n",
    "# loss_fn = nn.MSELoss(reduction='mean')\n",
    "loss_fn = QuatRotLoss\n",
    "model, optimizer, loss_fn\n",
    "\n"
   ]
  },
  {
   "cell_type": "code",
   "execution_count": 26,
   "metadata": {},
   "outputs": [],
   "source": [
    "optimizer = optim.Adam(model.parameters(), lr=1e-6, weight_decay=1e-5)"
   ]
  },
  {
   "cell_type": "code",
   "execution_count": null,
   "metadata": {},
   "outputs": [
    {
     "name": "stdout",
     "output_type": "stream",
     "text": [
      "Epoch 0, Training loss 0.09490869723260403, Validation loss 0.2761441320180893\n",
      "Epoch 1, Training loss 0.09205690301954746, Validation loss 0.27377436940486616\n",
      "Epoch 2, Training loss 0.089415502846241, Validation loss 0.27155152077858263\n",
      "Epoch 3, Training loss 0.08688396288082004, Validation loss 0.2694429365488199\n",
      "Epoch 4, Training loss 0.08446555936709046, Validation loss 0.26744160056114197\n",
      "Epoch 5, Training loss 0.0821525464579463, Validation loss 0.2655432315973135\n",
      "Epoch 6, Training loss 0.07994066694751382, Validation loss 0.2636997699737549\n",
      "Epoch 7, Training loss 0.07782785957679153, Validation loss 0.26188026941739595\n",
      "Epoch 8, Training loss 0.07580878501757979, Validation loss 0.2600549402145239\n",
      "Epoch 9, Training loss 0.07387962475419045, Validation loss 0.25832060208687413\n",
      "Epoch 10, Training loss 0.072036535711959, Validation loss 0.2566687074991373\n",
      "Epoch 11, Training loss 0.0702756486274302, Validation loss 0.2550961650334872\n",
      "Epoch 12, Training loss 0.0685926644038409, Validation loss 0.2536019224386949\n",
      "Epoch 13, Training loss 0.0669828414171934, Validation loss 0.2521782379883986\n",
      "Epoch 14, Training loss 0.06544179781340062, Validation loss 0.25082091757884395\n"
     ]
    }
   ],
   "source": [
    "device = torch.device(\"cuda:0\" if torch.cuda.is_available() else \"cpu\")\n",
    "training_loop(\n",
    "    40, optimizer, model, loss_fn, train_loader, val_loader, device, 1)"
   ]
  },
  {
   "cell_type": "code",
   "execution_count": 48,
   "metadata": {},
   "outputs": [
    {
     "data": {
      "text/plain": [
       "tensor([ 0.9821, -0.0542,  0.0892,  0.0708], grad_fn=<SqueezeBackward2>)"
      ]
     },
     "execution_count": 48,
     "metadata": {},
     "output_type": "execute_result"
    }
   ],
   "source": [
    "model.eval()\n",
    "model(x_tensor[0].unsqueeze(0)).squeeze_()"
   ]
  },
  {
   "cell_type": "code",
   "execution_count": 183,
   "metadata": {},
   "outputs": [
    {
     "name": "stdout",
     "output_type": "stream",
     "text": [
      "tensor([[[ 1.0000,  0.0000,  0.0000],\n",
      "         [ 0.0000,  1.0000,  0.0000],\n",
      "         [ 0.0000,  0.0000,  1.0000]],\n",
      "\n",
      "        [[ 0.9078, -0.4193,  0.0120],\n",
      "         [-0.3835, -0.8412, -0.3812],\n",
      "         [ 0.1699,  0.3415, -0.9244]],\n",
      "\n",
      "        [[-0.2159,  0.4005, -0.8905],\n",
      "         [-0.6102, -0.7673, -0.1972],\n",
      "         [-0.7623,  0.5008,  0.4100]],\n",
      "\n",
      "        [[ 0.3078,  0.5536, -0.7739],\n",
      "         [-0.9251,  0.3641, -0.1074],\n",
      "         [ 0.2223,  0.7490,  0.6242]],\n",
      "\n",
      "        [[ 0.0971,  0.7201, -0.6870],\n",
      "         [-0.9548,  0.2623,  0.1401],\n",
      "         [ 0.2811,  0.6423,  0.7130]],\n",
      "\n",
      "        [[ 0.0512, -0.5604, -0.8266],\n",
      "         [ 0.5337, -0.6842,  0.4969],\n",
      "         [-0.8441, -0.4667,  0.2640]],\n",
      "\n",
      "        [[ 0.3076, -0.9462, -0.1000],\n",
      "         [ 0.6709,  0.2902, -0.6824],\n",
      "         [ 0.6747,  0.1428,  0.7241]],\n",
      "\n",
      "        [[-0.2763, -0.9511,  0.1383],\n",
      "         [-0.2805,  0.2175,  0.9349],\n",
      "         [-0.9192,  0.2195, -0.3269]],\n",
      "\n",
      "        [[ 0.4916, -0.1325,  0.8607],\n",
      "         [ 0.5874,  0.7801, -0.2154],\n",
      "         [-0.6429,  0.6114,  0.4614]],\n",
      "\n",
      "        [[ 0.5669,  0.4081,  0.7156],\n",
      "         [ 0.4204, -0.8904,  0.1748],\n",
      "         [ 0.7084,  0.2017, -0.6763]],\n",
      "\n",
      "        [[-0.0682, -0.4008, -0.9136],\n",
      "         [ 0.6747,  0.6561, -0.3382],\n",
      "         [ 0.7350, -0.6394,  0.2257]],\n",
      "\n",
      "        [[ 0.5002,  0.5995,  0.6249],\n",
      "         [-0.4610,  0.7952, -0.3939],\n",
      "         [-0.7330, -0.0910,  0.6741]],\n",
      "\n",
      "        [[ 0.0065,  0.7804, -0.6253],\n",
      "         [ 0.3222, -0.5936, -0.7375],\n",
      "         [-0.9466, -0.1967, -0.2553]],\n",
      "\n",
      "        [[ 0.4461, -0.2694,  0.8535],\n",
      "         [ 0.4423,  0.8954,  0.0514],\n",
      "         [-0.7780,  0.3546,  0.5186]],\n",
      "\n",
      "        [[ 0.3756, -0.7829,  0.4959],\n",
      "         [ 0.4433, -0.3182, -0.8380],\n",
      "         [ 0.8139,  0.5346,  0.2275]],\n",
      "\n",
      "        [[ 0.4327, -0.3502,  0.8307],\n",
      "         [ 0.8554, -0.1316, -0.5010],\n",
      "         [ 0.2848,  0.9274,  0.2427]],\n",
      "\n",
      "        [[ 0.0961, -0.6293, -0.7712],\n",
      "         [ 0.6916, -0.5150,  0.5064],\n",
      "         [-0.7158, -0.5820,  0.3858]],\n",
      "\n",
      "        [[-0.6242, -0.3832,  0.6809],\n",
      "         [-0.1378, -0.8038, -0.5787],\n",
      "         [ 0.7690, -0.4550,  0.4489]],\n",
      "\n",
      "        [[ 0.5395, -0.6423,  0.5444],\n",
      "         [-0.5073,  0.2681,  0.8190],\n",
      "         [-0.6720, -0.7181, -0.1812]],\n",
      "\n",
      "        [[-0.6113, -0.5092,  0.6058],\n",
      "         [ 0.7799, -0.5174,  0.3521],\n",
      "         [ 0.1341,  0.6877,  0.7135]],\n",
      "\n",
      "        [[-0.7187,  0.6782,  0.1532],\n",
      "         [ 0.1380, -0.0769,  0.9874],\n",
      "         [ 0.6815,  0.7308, -0.0383]],\n",
      "\n",
      "        [[-0.6802,  0.6455,  0.3473],\n",
      "         [-0.4574, -0.0035, -0.8893],\n",
      "         [-0.5728, -0.7637,  0.2976]],\n",
      "\n",
      "        [[ 0.8146,  0.5082,  0.2797],\n",
      "         [ 0.1794,  0.2378, -0.9546],\n",
      "         [-0.5516,  0.8278,  0.1025]],\n",
      "\n",
      "        [[ 0.2955,  0.9507, -0.0939],\n",
      "         [-0.9116,  0.3100,  0.2698],\n",
      "         [ 0.2856,  0.0058,  0.9583]],\n",
      "\n",
      "        [[ 0.4840,  0.1175, -0.8672],\n",
      "         [-0.6084,  0.7575, -0.2369],\n",
      "         [ 0.6290,  0.6422,  0.4381]]])\n",
      "tensor([[[ 1.0961, -0.1045,  0.1347],\n",
      "         [ 0.0822,  1.1627,  0.1302],\n",
      "         [-0.3283, -0.3517,  0.9854]],\n",
      "\n",
      "        [[ 0.8336,  0.2809,  0.1080],\n",
      "         [-0.0627,  0.8120, -0.3148],\n",
      "         [ 0.0534,  0.5511,  0.8902]],\n",
      "\n",
      "        [[ 0.7246,  0.2388, -0.2479],\n",
      "         [ 0.0494,  0.3620, -0.4188],\n",
      "         [-0.8201,  0.0935,  0.2327]],\n",
      "\n",
      "        [[ 0.3583,  0.5600, -0.5422],\n",
      "         [-0.9399,  0.5205, -0.1181],\n",
      "         [ 0.1539,  0.6441,  0.5990]],\n",
      "\n",
      "        [[ 0.1362,  0.7832, -0.5557],\n",
      "         [-0.9917,  0.3378,  0.1867],\n",
      "         [ 0.3167,  0.5409,  0.6303]],\n",
      "\n",
      "        [[-0.8674, -1.3336, -1.3965],\n",
      "         [ 0.7243, -2.0605,  0.7665],\n",
      "         [-1.2729, -1.0588,  0.0769]],\n",
      "\n",
      "        [[ 0.6659,  0.4097, -0.1374],\n",
      "         [-0.0392,  0.8735, -0.3254],\n",
      "         [-0.1015,  0.5886,  0.6155]],\n",
      "\n",
      "        [[ 0.2027, -0.0812, -0.1796],\n",
      "         [ 0.6158,  0.2490,  0.1000],\n",
      "         [ 0.0053,  0.5880,  0.7467]],\n",
      "\n",
      "        [[ 0.4149, -0.4397,  0.8290],\n",
      "         [ 0.6291,  0.6746, -0.0106],\n",
      "         [-0.7876,  0.6858,  0.5072]],\n",
      "\n",
      "        [[ 0.5513,  0.4562,  0.7511],\n",
      "         [ 0.3915, -0.7603,  0.2707],\n",
      "         [ 0.6650,  0.2492, -0.5225]],\n",
      "\n",
      "        [[ 0.2825, -0.5347,  0.2641],\n",
      "         [ 0.2569, -0.0471, -0.5911],\n",
      "         [ 0.3169,  0.1152,  0.2243]],\n",
      "\n",
      "        [[ 0.3145,  0.8879,  0.8191],\n",
      "         [-0.6456,  0.6471, -0.6142],\n",
      "         [-0.7431,  0.0502,  0.4518]],\n",
      "\n",
      "        [[ 0.0896,  0.7827, -0.6982],\n",
      "         [ 0.4411, -0.3238, -0.5646],\n",
      "         [-0.9937, -0.1791, -0.3196]],\n",
      "\n",
      "        [[ 0.3571, -0.3512,  0.7712],\n",
      "         [ 0.5484,  1.0187,  0.2024],\n",
      "         [-0.8499,  0.2597,  0.4553]],\n",
      "\n",
      "        [[ 0.4589, -0.6357,  0.6470],\n",
      "         [ 0.4161, -0.1580, -0.8595],\n",
      "         [ 0.7128,  0.4863,  0.3683]],\n",
      "\n",
      "        [[ 0.5755, -0.3239,  0.7798],\n",
      "         [ 0.8039, -0.0211, -0.2434],\n",
      "         [ 0.1162,  0.7842,  0.1610]],\n",
      "\n",
      "        [[-0.5414, -1.3984, -1.3799],\n",
      "         [ 0.9909, -1.8440,  0.8188],\n",
      "         [-1.3401, -1.2590,  0.3558]],\n",
      "\n",
      "        [[-0.5413, -0.2172,  0.7160],\n",
      "         [-0.1278, -0.4748, -0.3824],\n",
      "         [ 0.6877, -0.4521,  0.5502]],\n",
      "\n",
      "        [[ 0.5031, -0.2485,  0.6380],\n",
      "         [-0.5339,  0.3241,  0.7688],\n",
      "         [-0.4707, -0.5639, -0.2105]],\n",
      "\n",
      "        [[-0.4622, -0.3221,  0.8623],\n",
      "         [ 0.7999, -0.3438,  0.2095],\n",
      "         [ 0.1102,  0.7578,  0.5568]],\n",
      "\n",
      "        [[-0.5404,  0.6754,  0.1968],\n",
      "         [ 0.3157,  0.1282,  0.8888],\n",
      "         [ 0.3911,  0.6866,  0.0310]],\n",
      "\n",
      "        [[-0.5485,  0.6830,  0.4916],\n",
      "         [-0.5717,  0.1948, -0.8455],\n",
      "         [-0.5085, -0.6395,  0.3614]],\n",
      "\n",
      "        [[ 0.8965,  0.3322,  0.3092],\n",
      "         [ 0.1989,  0.2440, -0.6430],\n",
      "         [-0.8179,  0.5405,  0.2420]],\n",
      "\n",
      "        [[ 0.2751,  0.7433, -0.0703],\n",
      "         [-0.7428,  0.4644,  0.5754],\n",
      "         [-0.0358, -0.1144,  0.9541]],\n",
      "\n",
      "        [[ 0.4792,  0.0223, -0.6811],\n",
      "         [-0.4728,  0.7856, -0.1439],\n",
      "         [ 0.3555,  0.4442,  0.4997]]])\n",
      "0.14794257283210754\n"
     ]
    }
   ],
   "source": [
    "with torch.no_grad():\n",
    "    model.eval()\n",
    "    M = model(x_tensor)\n",
    "    print(y_tensor)\n",
    "    print(M)\n",
    "    print(float(loss_fn(y_tensor,M)))"
   ]
  },
  {
   "cell_type": "code",
   "execution_count": 53,
   "metadata": {},
   "outputs": [
    {
     "name": "stdout",
     "output_type": "stream",
     "text": [
      "tensor([ 0.9410,  0.3112, -0.0350, -0.1280])\n",
      "tensor([ 0.9341,  0.2438, -0.0030, -0.0829])\n"
     ]
    }
   ],
   "source": [
    "with torch.no_grad():\n",
    "    k = 100\n",
    "    model.eval()\n",
    "    Q = model(x_tensor[k].unsqueeze(0)).squeeze_()\n",
    "    print(y_tensor[k])\n",
    "    print(Q)\n",
    "#     print(float(loss_fn(y_tensor[k],Q)))"
   ]
  },
  {
   "cell_type": "code",
   "execution_count": 93,
   "metadata": {},
   "outputs": [
    {
     "data": {
      "text/plain": [
       "tensor([[[ 1.0000,  0.0000,  0.0000],\n",
       "         [ 0.0000,  1.0000,  0.0000],\n",
       "         [ 0.0000,  0.0000,  1.0000]],\n",
       "\n",
       "        [[ 0.3562,  0.9300, -0.0907],\n",
       "         [-0.6391,  0.3133,  0.7024],\n",
       "         [ 0.6817, -0.1922,  0.7060]],\n",
       "\n",
       "        [[ 0.2505, -0.6943,  0.6747],\n",
       "         [-0.9668, -0.2154,  0.1373],\n",
       "         [ 0.0500, -0.6867, -0.7253]],\n",
       "\n",
       "        [[-0.9499,  0.0894,  0.2995],\n",
       "         [-0.3122, -0.3157, -0.8960],\n",
       "         [ 0.0144, -0.9446,  0.3278]],\n",
       "\n",
       "        [[-0.8169, -0.5753,  0.0414],\n",
       "         [-0.0588,  0.0117, -0.9982],\n",
       "         [ 0.5738, -0.8179, -0.0434]]])"
      ]
     },
     "execution_count": 93,
     "metadata": {},
     "output_type": "execute_result"
    }
   ],
   "source": [
    "y_tensor"
   ]
  },
  {
   "cell_type": "code",
   "execution_count": 105,
   "metadata": {},
   "outputs": [
    {
     "data": {
      "text/plain": [
       "tensor([14., 77.])"
      ]
     },
     "execution_count": 105,
     "metadata": {},
     "output_type": "execute_result"
    }
   ],
   "source": [
    "A = torch.tensor([[1.0,2.0,3.0],[4.0,5.0,6.0]])\n",
    "# A*A\n",
    "(A*A).sum(dim=1)\n",
    "# B = A*A\n",
    "# B, B.sum(axis=1)\n",
    "# float(A.dot(A))\n",
    "# torch.abs(torch.tensor([-1,2,3]))\n",
    "# C = (1.0 - (A*-A).sum(axis=1).abs())\n",
    "# torch.max(C, torch.tensor([1.0,2.0]))\n",
    "# torch.max(torch.tensor([-1,3]), torch.tensor([1,2]))"
   ]
  },
  {
   "cell_type": "code",
   "execution_count": 59,
   "metadata": {},
   "outputs": [
    {
     "name": "stdout",
     "output_type": "stream",
     "text": [
      "tensor([-0.4129,  0.5611,  0.7154,  0.0534])\n",
      "tensor([ 0.5664, -0.6701, -0.8286, -0.2011])\n"
     ]
    }
   ],
   "source": [
    "with torch.no_grad():\n",
    "    Q = random_unit_quaternion()\n",
    "    M = quaternion_to_rotation_matrix(Q)\n",
    "    xt = torch.mm(ps, M).reshape(ps.shape[1], ps.shape[0])\n",
    "    yt = Q\n",
    "    model.eval()\n",
    "    yhat = model(xt.unsqueeze(0)).squeeze_()   \n",
    "    print(yt)\n",
    "    print(yhat)\n"
   ]
  },
  {
   "cell_type": "code",
   "execution_count": null,
   "metadata": {},
   "outputs": [],
   "source": []
  }
 ],
 "metadata": {
  "kernelspec": {
   "display_name": "Python 3",
   "language": "python",
   "name": "python3"
  },
  "language_info": {
   "codemirror_mode": {
    "name": "ipython",
    "version": 3
   },
   "file_extension": ".py",
   "mimetype": "text/x-python",
   "name": "python",
   "nbconvert_exporter": "python",
   "pygments_lexer": "ipython3",
   "version": "3.8.3"
  }
 },
 "nbformat": 4,
 "nbformat_minor": 4
}
